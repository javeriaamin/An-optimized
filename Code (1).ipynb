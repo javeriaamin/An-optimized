{
  "nbformat": 4,
  "nbformat_minor": 0,
  "metadata": {
    "colab": {
      "provenance": []
    },
    "kernelspec": {
      "name": "python3",
      "display_name": "Python 3"
    },
    "language_info": {
      "name": "python"
    }
  },
  "cells": [
    {
      "cell_type": "markdown",
      "source": [
        "#An optimized features selection approach based on Manta Ray Foraging Optimization (MRFO) method for parasite malaria classification\n",
        "\n",
        "\n"
      ],
      "metadata": {
        "id": "rrZBE4dmzzuk"
      }
    },
    {
      "cell_type": "code",
      "execution_count": null,
      "metadata": {
        "id": "bqkcSTG5zT6S"
      },
      "outputs": [],
      "source": [
        "import os\n",
        "import cv2\n",
        "import numpy as np\n",
        "import tensorflow as tf\n",
        "from sklearn.cluster import KMeans\n",
        "from sklearn.svm import SVC\n",
        "from sklearn.model_selection import cross_val_score\n",
        "from tensorflow.keras.applications import EfficientNetB0, MobileNetV2\n",
        "from sklearn.decomposition import PCA\n",
        "from manta_ray_optimization import MRFO"
      ]
    },
    {
      "cell_type": "markdown",
      "source": [
        "# Paths for infected and uninfected images\n"
      ],
      "metadata": {
        "id": "S619KgVm0UlG"
      }
    },
    {
      "cell_type": "code",
      "source": [
        "path_infected = \"path/to/infected\"\n",
        "path_uninfected = \"path/to/uninfected\"\n",
        "\n",
        "def load_images_from_folder(folder):\n",
        "    images = []\n",
        "    for filename in os.listdir(folder):\n",
        "        img = cv2.imread(os.path.join(folder, filename))\n",
        "        if img is not None:\n",
        "            images.append(img)\n",
        "    return images\n",
        "\n",
        "# Load data\n",
        "infected_images = load_images_from_folder(path_infected)\n",
        "uninfected_images = load_images_from_folder(path_uninfected)\n",
        "labels = np.concatenate((np.ones(len(infected_images)), np.zeros(len(uninfected_images))))"
      ],
      "metadata": {
        "id": "NlyZAnVBzb0u"
      },
      "execution_count": null,
      "outputs": []
    },
    {
      "cell_type": "markdown",
      "source": [
        "# Segmentation"
      ],
      "metadata": {
        "id": "gJ9j5UqI0ana"
      }
    },
    {
      "cell_type": "code",
      "source": [
        "def segment_image(img, clusters=3):\n",
        "    img = cv2.cvtColor(img, cv2.COLOR_BGR2RGB)\n",
        "    pixel_vals = img.reshape((-1, 3))\n",
        "    kmeans = KMeans(n_clusters=clusters, random_state=42)\n",
        "    kmeans.fit(pixel_vals)\n",
        "    segmented_img = kmeans.cluster_centers_[kmeans.labels_]\n",
        "    return segmented_img.reshape(img.shape)\n",
        "\n",
        "# Segment all images\n",
        "segmented_images = [segment_image(img) for img in infected_images + uninfected_images]"
      ],
      "metadata": {
        "id": "OIk9fCu7zg98"
      },
      "execution_count": null,
      "outputs": []
    },
    {
      "cell_type": "markdown",
      "source": [
        "#Features Extraction and Selection\n"
      ],
      "metadata": {
        "id": "WA7uFcpI0ity"
      }
    },
    {
      "cell_type": "code",
      "source": [
        "def extract_features(model, images):\n",
        "    model = model(weights='imagenet', include_top=False, pooling='avg')\n",
        "    images = [cv2.resize(img, (224, 224)) for img in images]\n",
        "    images = np.array(images) / 255.0\n",
        "    features = model.predict(images)\n",
        "    return features\n",
        "\n",
        "# Extract deep features\n",
        "features_eff = extract_features(EfficientNetB0, segmented_images)\n",
        "features_mob = extract_features(MobileNetV2, segmented_images)\n",
        "\n",
        "# Feature selection using MRFO\n",
        "selected_features_eff = MRFO(features_eff)\n",
        "selected_features_mob = MRFO(features_mob)"
      ],
      "metadata": {
        "id": "gpXR4l8_zljN"
      },
      "execution_count": null,
      "outputs": []
    },
    {
      "cell_type": "markdown",
      "source": [
        "# Feature Fusion and Classification"
      ],
      "metadata": {
        "id": "EcnTbEUx00a5"
      }
    },
    {
      "cell_type": "code",
      "source": [
        "# Feature fusion\n",
        "fused_features = np.hstack((selected_features_eff, selected_features_mob))\n",
        "\n",
        "# Classification\n",
        "svm = SVC(kernel='linear')\n",
        "cv_score_1 = cross_val_score(svm, selected_features_eff, labels, cv=10).mean()\n",
        "cv_score_2 = cross_val_score(svm, selected_features_mob, labels, cv=10).mean()\n",
        "cv_score_fused = cross_val_score(svm, fused_features, labels, cv=10).mean()\n",
        "\n",
        "print(f\"Accuracy with EfficientNet-B0 features: {cv_score_1 * 100:.2f}%\")\n",
        "print(f\"Accuracy with MobileNetV2 features: {cv_score_2 * 100:.2f}%\")\n",
        "print(f\"Accuracy with Fused features: {cv_score_fused * 100:.2f}%\")\n"
      ],
      "metadata": {
        "id": "PpLATguxzVN6"
      },
      "execution_count": null,
      "outputs": []
    }
  ]
}